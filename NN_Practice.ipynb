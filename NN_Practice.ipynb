{
  "nbformat": 4,
  "nbformat_minor": 0,
  "metadata": {
    "colab": {
      "provenance": [],
      "authorship_tag": "ABX9TyOqgAR1CAzWGmK2RdS8ATlL",
      "include_colab_link": true
    },
    "kernelspec": {
      "name": "python3",
      "display_name": "Python 3"
    },
    "language_info": {
      "name": "python"
    }
  },
  "cells": [
    {
      "cell_type": "markdown",
      "metadata": {
        "id": "view-in-github",
        "colab_type": "text"
      },
      "source": [
        "<a href=\"https://colab.research.google.com/github/kn0wthing/practice/blob/main/NN_Practice.ipynb\" target=\"_parent\"><img src=\"https://colab.research.google.com/assets/colab-badge.svg\" alt=\"Open In Colab\"/></a>"
      ]
    },
    {
      "cell_type": "code",
      "execution_count": 2,
      "metadata": {
        "colab": {
          "base_uri": "https://localhost:8080/"
        },
        "id": "_CYG3mZUKSJf",
        "outputId": "b1e4b4cd-00f5-4edf-f622-253fd5a05332"
      },
      "outputs": [
        {
          "output_type": "stream",
          "name": "stdout",
          "text": [
            "Mounted at /content/drive\n"
          ]
        }
      ],
      "source": [
        "from google.colab import drive\n",
        "drive.mount('/content/drive')"
      ]
    },
    {
      "cell_type": "code",
      "source": [
        "import os\n",
        "kaggle_dir = '/root/.kaggle'\n",
        "os.makedirs(kaggle_dir, exist_ok=True)\n"
      ],
      "metadata": {
        "id": "6scNEqlfMagF"
      },
      "execution_count": 3,
      "outputs": []
    },
    {
      "cell_type": "code",
      "source": [
        "!pwd"
      ],
      "metadata": {
        "colab": {
          "base_uri": "https://localhost:8080/"
        },
        "id": "V1aIg8UrMetl",
        "outputId": "2063de66-1795-4d78-fb38-d46443bfb5f0"
      },
      "execution_count": 4,
      "outputs": [
        {
          "output_type": "stream",
          "name": "stdout",
          "text": [
            "/content\n"
          ]
        }
      ]
    },
    {
      "cell_type": "code",
      "source": [
        "!cp /content/drive/MyDrive/kaggle.json {kaggle_dir}/"
      ],
      "metadata": {
        "id": "rAqisrGTMkLr"
      },
      "execution_count": 5,
      "outputs": []
    },
    {
      "cell_type": "code",
      "source": [
        "!chmod 600 {kaggle_dir}/kaggle.json"
      ],
      "metadata": {
        "id": "rHQ0C6yaNBN9"
      },
      "execution_count": 6,
      "outputs": []
    },
    {
      "cell_type": "code",
      "source": [
        "!kaggle competitions download -c lish-moa"
      ],
      "metadata": {
        "colab": {
          "base_uri": "https://localhost:8080/"
        },
        "id": "8I5AJ6AANPj5",
        "outputId": "93131abe-13c0-4280-fb87-34b9310316b6"
      },
      "execution_count": 8,
      "outputs": [
        {
          "output_type": "stream",
          "name": "stdout",
          "text": [
            "Downloading lish-moa.zip to /content\n",
            " 97% 63.0M/64.7M [00:00<00:00, 157MB/s]\n",
            "100% 64.7M/64.7M [00:00<00:00, 127MB/s]\n"
          ]
        }
      ]
    },
    {
      "cell_type": "code",
      "source": [
        "!unzip /content/lish-moa.zip"
      ],
      "metadata": {
        "colab": {
          "base_uri": "https://localhost:8080/"
        },
        "id": "oOxXGFcyNiIM",
        "outputId": "1dd0b85c-de5a-47d9-ba90-516944480831"
      },
      "execution_count": 9,
      "outputs": [
        {
          "output_type": "stream",
          "name": "stdout",
          "text": [
            "Archive:  /content/lish-moa.zip\n",
            "  inflating: sample_submission.csv   \n",
            "  inflating: test_features.csv       \n",
            "  inflating: train_drug.csv          \n",
            "  inflating: train_features.csv      \n",
            "  inflating: train_targets_nonscored.csv  \n",
            "  inflating: train_targets_scored.csv  \n"
          ]
        }
      ]
    },
    {
      "cell_type": "code",
      "source": [
        "import pandas as pd\n",
        "import numpy as np\n",
        "import matplotlib.pyplot as plt\n",
        "import seaborn as sns\n",
        "import torch\n",
        "import torch.nn as nn\n",
        "import torch.optim as optim\n",
        "import torch.nn.utils as nn_utils\n",
        "from torch.utils.data import Dataset, DataLoader\n",
        "from sklearn.model_selection import train_test_split\n",
        "from sklearn.preprocessing import StandardScaler, OneHotEncoder\n",
        "from sklearn.compose import ColumnTransformer\n",
        "from sklearn.pipeline import Pipeline"
      ],
      "metadata": {
        "id": "WY32Z1Y5X8Mh"
      },
      "execution_count": 30,
      "outputs": []
    },
    {
      "cell_type": "code",
      "source": [
        "class MoADataset(Dataset):\n",
        "    def __init__(self, features, targets):\n",
        "        self.features = features\n",
        "        self.targets = targets\n",
        "\n",
        "    def __len__(self):\n",
        "        return len(self.features)\n",
        "\n",
        "    def __getitem__(self, idx):\n",
        "        return {\n",
        "            'features': torch.tensor(self.features[idx], dtype=torch.float32),\n",
        "            'targets': torch.tensor(self.targets[idx], dtype=torch.float32)\n",
        "        }\n",
        "\n"
      ],
      "metadata": {
        "id": "CBB2c-u6X0Iy"
      },
      "execution_count": 11,
      "outputs": []
    },
    {
      "cell_type": "code",
      "source": [
        "class MoAModel(nn.Module):\n",
        "    # def __init__(self, input_dim, output_dim):\n",
        "    #     super(MoAModel, self).__init__()\n",
        "    #     self.fc1 = nn.Linear(input_dim, 1024)\n",
        "    #     self.fc2 = nn.Linear(1024, 512)\n",
        "    #     self.fc3 = nn.Linear(512, output_dim)\n",
        "    #     self.dropout = nn.Dropout(0.5)\n",
        "    #     self.criterion = nn.BCEWithLogitsLoss()\n",
        "    #     self.optimizer = optim.Adam(self.parameters(), lr=0.001)\n",
        "    #     self.relu = nn.ReLU()\n",
        "\n",
        "    def __init__(self, input_dim, output_dim):\n",
        "        super(MoAModel, self).__init__()\n",
        "        self.fc1 = nn_utils.weight_norm(nn.Linear(input_dim, 1024))\n",
        "        self.bn1 = nn.BatchNorm1d(1024)\n",
        "\n",
        "        self.fc2 = nn_utils.weight_norm(nn.Linear(1024, 512))\n",
        "        self.bn2 = nn.BatchNorm1d(512)\n",
        "\n",
        "        self.fc3 = nn_utils.weight_norm(nn.Linear(512, 256))\n",
        "        self.bn3 = nn.BatchNorm1d(256)\n",
        "\n",
        "        self.fc4 = nn_utils.weight_norm(nn.Linear(256, output_dim))\n",
        "\n",
        "        self.dropout = nn.Dropout(0.5)\n",
        "        self.criterion = nn.BCEWithLogitsLoss()\n",
        "        self.optimizer = optim.Adam(self.parameters(), lr=0.001)\n",
        "        self.relu = nn.ReLU()\n",
        "\n",
        "    def forward(self, x):\n",
        "        x1 = self.relu(self.bn1(self.fc1(x)))\n",
        "        x2 = self.relu(self.bn2(self.fc2(x1)))\n",
        "        x3 = self.relu(self.bn3(self.fc3(x2)))\n",
        "\n",
        "        out = self.fc4(x3)\n",
        "        return out\n",
        "\n",
        "    def compute_loss(self, outputs, targets):\n",
        "        return self.criterion(outputs, targets)\n",
        "\n",
        "    def train_model(self, data_loader, num_epochs, device):\n",
        "        self.to(device)\n",
        "        for epoch in range(num_epochs):\n",
        "            self.train()\n",
        "            running_loss = 0.0\n",
        "            for batch in data_loader:\n",
        "                features = batch['features'].to(device)\n",
        "                targets = batch['targets'].to(device)\n",
        "                self.optimizer.zero_grad()\n",
        "                outputs = self(features)\n",
        "                loss = self.criterion(outputs, targets)\n",
        "                loss.backward()\n",
        "                self.optimizer.step()\n",
        "                running_loss += loss.item()\n",
        "            print(f'Epoch [{epoch+1}/{num_epochs}], Loss: {running_loss/len(data_loader):.4f}')\n",
        "\n"
      ],
      "metadata": {
        "id": "rEHq6Cmf91AW"
      },
      "execution_count": 38,
      "outputs": []
    },
    {
      "cell_type": "code",
      "source": [
        "train_features = pd.read_csv('/content/train_features.csv')\n",
        "train_targets = pd.read_csv('/content/train_targets_scored.csv')\n",
        "feature_cols = [col for col in train_features.columns if col not in ['sig_id', 'cp_type', 'cp_time', 'cp_dose']]\n",
        "categorical_cols = ['cp_type', 'cp_time', 'cp_dose']\n",
        "preprocessor = ColumnTransformer(\n",
        "    transformers=[\n",
        "        ('num', StandardScaler(), feature_cols),\n",
        "        ('cat', OneHotEncoder(), categorical_cols)\n",
        "    ]\n",
        ")\n",
        "X = preprocessor.fit_transform(train_features)\n",
        "y = train_targets.drop('sig_id', axis=1).values\n",
        "dataset = MoADataset(X, y)\n",
        "\n",
        "dataloader = DataLoader(dataset, batch_size=32, shuffle=True)\n"
      ],
      "metadata": {
        "id": "a2ZAvtOr9wz-"
      },
      "execution_count": 39,
      "outputs": []
    },
    {
      "cell_type": "code",
      "source": [
        "device = torch.device('cuda' if torch.cuda.is_available() else 'cpu')\n",
        "model = MoAModel(input_dim=X.shape[1], output_dim=y.shape[1])\n",
        "model.train_model(dataloader, num_epochs=20, device=device)"
      ],
      "metadata": {
        "colab": {
          "base_uri": "https://localhost:8080/"
        },
        "id": "kzhbStTiBCmY",
        "outputId": "5b3bc9dd-3bcd-4bad-98e7-03f3ac5e1f72"
      },
      "execution_count": 40,
      "outputs": [
        {
          "output_type": "stream",
          "name": "stderr",
          "text": [
            "/usr/local/lib/python3.10/dist-packages/torch/nn/utils/weight_norm.py:143: FutureWarning: `torch.nn.utils.weight_norm` is deprecated in favor of `torch.nn.utils.parametrizations.weight_norm`.\n",
            "  WeightNorm.apply(module, name, dim)\n"
          ]
        },
        {
          "output_type": "stream",
          "name": "stdout",
          "text": [
            "Epoch [1/20], Loss: 0.0342\n",
            "Epoch [2/20], Loss: 0.0167\n",
            "Epoch [3/20], Loss: 0.0157\n",
            "Epoch [4/20], Loss: 0.0148\n",
            "Epoch [5/20], Loss: 0.0140\n",
            "Epoch [6/20], Loss: 0.0131\n",
            "Epoch [7/20], Loss: 0.0121\n",
            "Epoch [8/20], Loss: 0.0110\n",
            "Epoch [9/20], Loss: 0.0096\n",
            "Epoch [10/20], Loss: 0.0080\n",
            "Epoch [11/20], Loss: 0.0063\n",
            "Epoch [12/20], Loss: 0.0048\n",
            "Epoch [13/20], Loss: 0.0037\n",
            "Epoch [14/20], Loss: 0.0029\n",
            "Epoch [15/20], Loss: 0.0025\n",
            "Epoch [16/20], Loss: 0.0020\n",
            "Epoch [17/20], Loss: 0.0018\n",
            "Epoch [18/20], Loss: 0.0016\n",
            "Epoch [19/20], Loss: 0.0016\n",
            "Epoch [20/20], Loss: 0.0015\n"
          ]
        }
      ]
    },
    {
      "cell_type": "markdown",
      "source": [
        "```\n",
        "Vanilla FFN\n",
        "\n",
        "Epoch [1/20], Loss: 0.0248\n",
        "Epoch [2/20], Loss: 0.0181\n",
        "Epoch [3/20], Loss: 0.0177\n",
        "Epoch [4/20], Loss: 0.0175\n",
        "Epoch [5/20], Loss: 0.0175\n",
        "Epoch [6/20], Loss: 0.0170\n",
        "Epoch [7/20], Loss: 0.0168\n",
        "Epoch [8/20], Loss: 0.0168\n",
        "Epoch [9/20], Loss: 0.0167\n",
        "Epoch [10/20], Loss: 0.0163\n",
        "Epoch [11/20], Loss: 0.0168\n",
        "Epoch [12/20], Loss: 0.0171\n",
        "Epoch [13/20], Loss: 0.0163\n",
        "Epoch [14/20], Loss: 0.0163\n",
        "Epoch [15/20], Loss: 0.0160\n",
        "Epoch [16/20], Loss: 0.0160\n",
        "Epoch [17/20], Loss: 0.0162\n",
        "Epoch [18/20], Loss: 0.0162\n",
        "Epoch [19/20], Loss: 0.0169\n",
        "Epoch [20/20], Loss: 0.0169\n",
        "```\n",
        "\n",
        "\n"
      ],
      "metadata": {
        "id": "1-xZeFaMPTPP"
      }
    },
    {
      "cell_type": "code",
      "source": [],
      "metadata": {
        "id": "7hbDgJ7pC901"
      },
      "execution_count": null,
      "outputs": []
    }
  ]
}