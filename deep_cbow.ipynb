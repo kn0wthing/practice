{
  "nbformat": 4,
  "nbformat_minor": 0,
  "metadata": {
    "colab": {
      "provenance": []
    },
    "kernelspec": {
      "name": "python3",
      "display_name": "Python 3"
    },
    "language_info": {
      "name": "python"
    },
    "accelerator": "GPU"
  },
  "cells": [
    {
      "cell_type": "code",
      "execution_count": 1,
      "metadata": {
        "id": "nfqATQzlIJ-k"
      },
      "outputs": [],
      "source": [
        "import torch\n",
        "import random\n",
        "import torch.nn as nn"
      ]
    },
    {
      "cell_type": "code",
      "source": [
        "%%capture\n",
        "\n",
        "# download the files\n",
        "!wget https://raw.githubusercontent.com/neubig/nn4nlp-code/master/data/classes/dev.txt\n",
        "!wget https://raw.githubusercontent.com/neubig/nn4nlp-code/master/data/classes/test.txt\n",
        "!wget https://raw.githubusercontent.com/neubig/nn4nlp-code/master/data/classes/train.txt\n",
        "\n",
        "# create the data folders\n",
        "!mkdir data data/classes\n",
        "!cp dev.txt data/classes\n",
        "!cp test.txt data/classes\n",
        "!cp train.txt data/classes"
      ],
      "metadata": {
        "id": "-4qY1e2XNiri"
      },
      "execution_count": 2,
      "outputs": []
    },
    {
      "cell_type": "markdown",
      "source": [
        "## Read and Process the Data"
      ],
      "metadata": {
        "id": "6Vh6stZfNt7F"
      }
    },
    {
      "cell_type": "code",
      "source": [
        "# function to read in data, process each line and split columns by \" ||| \"\n",
        "def read_data(filename):\n",
        "    data = []\n",
        "    with open(filename, 'r') as f:\n",
        "        for line in f:\n",
        "            line = line.lower().strip()\n",
        "            line = line.split(' ||| ')\n",
        "            data.append(line)\n",
        "    return data\n",
        "\n",
        "train_data = read_data('data/classes/train.txt')\n",
        "test_data = read_data('data/classes/test.txt')\n",
        "\n",
        "# creating the word and tag indices\n",
        "word_to_index = {}\n",
        "word_to_index[\"<unk>\"] = len(word_to_index) # add <UNK> to dictionary\n",
        "tag_to_index = {}\n",
        "\n",
        "# create word to index dictionary and tag to index dictionary from data\n",
        "def create_dict(data, check_unk=False):\n",
        "    for line in data:\n",
        "        for word in line[1].split(\" \"):\n",
        "            if check_unk == False:\n",
        "                if word not in word_to_index:\n",
        "                    word_to_index[word] = len(word_to_index)\n",
        "            else:\n",
        "                if word not in word_to_index:\n",
        "                    word_to_index[word] = word_to_index[\"<unk>\"]\n",
        "\n",
        "        if line[0] not in tag_to_index:\n",
        "            tag_to_index[line[0]] = len(tag_to_index)\n",
        "\n",
        "create_dict(train_data)\n",
        "create_dict(test_data, check_unk=True)\n",
        "\n",
        "# create word and tag tensors from data\n",
        "def create_tensor(data):\n",
        "    for line in data:\n",
        "        yield([word_to_index[word] for word in line[1].split(\" \")], tag_to_index[line[0]])\n",
        "\n",
        "train_data = list(create_tensor(train_data))\n",
        "test_data = list(create_tensor(test_data))\n",
        "\n",
        "number_of_words = len(word_to_index)\n",
        "number_of_tags = len(tag_to_index)"
      ],
      "metadata": {
        "id": "ZjrwnvlyNsG2"
      },
      "execution_count": 3,
      "outputs": []
    },
    {
      "cell_type": "markdown",
      "source": [
        "## Model"
      ],
      "metadata": {
        "id": "sSoomtjuN4HD"
      }
    },
    {
      "cell_type": "code",
      "source": [
        "device = \"cuda\" if torch.cuda.is_available() else \"cpu\"\n",
        "\n",
        "# create a simple neural network with embedding layer, bias, and xavier initialization\n",
        "class DeepCBoW(nn.Module):\n",
        "    def __init__(self, nwords, ntags, hidden_size, num_layers, emb_size):\n",
        "        super(DeepCBoW, self).__init__()\n",
        "\n",
        "        self.num_layers = num_layers\n",
        "\n",
        "        # layers\n",
        "        self.embedding = nn.Embedding(nwords, emb_size)\n",
        "        self.linears = nn.ModuleList([nn.Linear(emb_size if i ==0 else hidden_size, hidden_size) \\\n",
        "            for i in range(num_layers)])\n",
        "\n",
        "        # use xavier initialization for weights\n",
        "        nn.init.xavier_uniform_(self.embedding.weight)\n",
        "        for i in range(self.num_layers):\n",
        "            nn.init.xavier_uniform_(self.linears[i].weight)\n",
        "\n",
        "        # output layer\n",
        "        self.output_layer = nn.Linear(hidden_size, ntags)\n",
        "\n",
        "    def forward(self, x):\n",
        "        emb = self.embedding(x) # seq x emb_size\n",
        "        emb_sum = torch.sum(emb, dim=0) # emb_size\n",
        "        h = emb_sum.view(1, -1) # reshape to (1, emb_size)\n",
        "        for i in range(self.num_layers):\n",
        "            h = torch.tanh(self.linears[i](h))\n",
        "        out = self.output_layer(h) # 1 x ntags\n",
        "        return out\n",
        "\n",
        "HIDDEN_SIZE = 64\n",
        "NUM_LAYERS = 2 # hidden layers\n",
        "EMB_SIZE = 64\n",
        "model = DeepCBoW(number_of_words, number_of_tags, HIDDEN_SIZE, NUM_LAYERS, EMB_SIZE).to(device)\n",
        "criterion = nn.CrossEntropyLoss()\n",
        "optimizer = torch.optim.Adam(model.parameters())\n",
        "type = torch.LongTensor\n",
        "\n",
        "if torch.cuda.is_available():\n",
        "    model.to(device)\n",
        "    type = torch.cuda.LongTensor"
      ],
      "metadata": {
        "id": "j_-GavImNz6n"
      },
      "execution_count": 4,
      "outputs": []
    },
    {
      "cell_type": "markdown",
      "source": [
        "## Model Training"
      ],
      "metadata": {
        "id": "tMqill6ZOLPu"
      }
    },
    {
      "cell_type": "code",
      "source": [
        "# perform training of the Bow model\n",
        "\n",
        "for epoch in range(10):\n",
        "    # perform training\n",
        "    model.train()\n",
        "    random.shuffle(train_data)\n",
        "    total_loss = 0.0\n",
        "    train_correct = 0\n",
        "    for sentence, tag in train_data:\n",
        "        sentence = torch.tensor(sentence).type(type)\n",
        "        tag = torch.tensor([tag]).type(type)\n",
        "        output = model(sentence)\n",
        "        predicted = torch.argmax(output.data.detach()).item()\n",
        "\n",
        "        loss = criterion(output, tag)\n",
        "        total_loss += loss.item()\n",
        "\n",
        "        optimizer.zero_grad()\n",
        "        loss.backward()\n",
        "        optimizer.step()\n",
        "\n",
        "        if predicted == tag: train_correct+=1\n",
        "\n",
        "    # perform testing of the model\n",
        "    model.eval()\n",
        "    test_correct = 0\n",
        "    for sentence, tag in test_data:\n",
        "        sentence = torch.tensor(sentence).type(type)\n",
        "        output = model(sentence)\n",
        "        predicted = torch.argmax(output.data.detach()).item()\n",
        "        if predicted == tag: test_correct += 1\n",
        "\n",
        "    # print model performance results\n",
        "    log = f'epoch: {epoch+1} | ' \\\n",
        "        f'train loss/sent: {total_loss/len(train_data):.4f} | ' \\\n",
        "        f'train accuracy: {train_correct/len(train_data):.4f} | ' \\\n",
        "        f'test accuracy: {test_correct/len(test_data):.4f}'\n",
        "\n",
        "    print(log)"
      ],
      "metadata": {
        "id": "BkY11eyXOIOY",
        "colab": {
          "base_uri": "https://localhost:8080/"
        },
        "outputId": "5117adfa-4386-4481-a6e7-4950d1c6001f"
      },
      "execution_count": 5,
      "outputs": [
        {
          "output_type": "stream",
          "name": "stdout",
          "text": [
            "epoch: 1 | train loss/sent: 1.4265 | train accuracy: 0.3629 | test accuracy: 0.4285\n",
            "epoch: 2 | train loss/sent: 1.0115 | train accuracy: 0.5886 | test accuracy: 0.3729\n",
            "epoch: 3 | train loss/sent: 0.6532 | train accuracy: 0.7643 | test accuracy: 0.3787\n",
            "epoch: 4 | train loss/sent: 0.4064 | train accuracy: 0.8590 | test accuracy: 0.3941\n",
            "epoch: 5 | train loss/sent: 0.2661 | train accuracy: 0.9092 | test accuracy: 0.3805\n",
            "epoch: 6 | train loss/sent: 0.1810 | train accuracy: 0.9386 | test accuracy: 0.3792\n",
            "epoch: 7 | train loss/sent: 0.1266 | train accuracy: 0.9585 | test accuracy: 0.3765\n",
            "epoch: 8 | train loss/sent: 0.0808 | train accuracy: 0.9721 | test accuracy: 0.3769\n",
            "epoch: 9 | train loss/sent: 0.0604 | train accuracy: 0.9802 | test accuracy: 0.3778\n",
            "epoch: 10 | train loss/sent: 0.0450 | train accuracy: 0.9830 | test accuracy: 0.3643\n"
          ]
        }
      ]
    }
  ]
}